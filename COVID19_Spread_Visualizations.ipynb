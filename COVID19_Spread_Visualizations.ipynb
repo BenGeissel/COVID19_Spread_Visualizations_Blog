{
 "cells": [
  {
   "cell_type": "markdown",
   "metadata": {},
   "source": [
    "# Visualizing the COVID-19 Crisis Across the World\n",
    "\n",
    "The data in this notebook is from two sources:\n",
    "\n",
    "COVID-19 Data:\n",
    " - Global - [European CDC](https://www.ecdc.europa.eu/en/publications-data/download-todays-data-geographic-distribution-covid-19-cases-worldwide) as of 3/27/20.\n",
    " - US - [New York Times via Github](https://github.com/nytimes/covid-19-data) as of 3/25/20.\n",
    "\n",
    "Population Data: [The World Bank](https://data.worldbank.org/indicator/SP.POP.TOTL) as of 2018."
   ]
  },
  {
   "cell_type": "markdown",
   "metadata": {},
   "source": [
    "### Introduction\n",
    "The COVID-19 crisis is affecting countries all over the world. This notebook will look at different measures of how bad the outbreak is across countries. These will be displayed in global choropleth maps for each metric. Additionally, this notebook sets up a set of code to repeat this exercise as the crisis continues and more daily data is collected.\n",
    "\n",
    "UPDATE: This notebook now includes a United States specific study at the state level. The same metrics will be viewed."
   ]
  },
  {
   "cell_type": "code",
   "execution_count": null,
   "metadata": {},
   "outputs": [],
   "source": [
    "# Import necessary packages\n",
    "import numpy as np\n",
    "import pandas as pd\n",
    "import matplotlib.pyplot as plt\n",
    "%matplotlib inline\n",
    "import statsmodels as sm\n",
    "pd.set_option('display.max_columns', None)\n",
    "pd.set_option('display.max_rows', None)\n",
    "pd.set_option('max_colwidth',-1)\n",
    "from plotly.offline import download_plotlyjs, init_notebook_mode, iplot\n",
    "from plotly.graph_objs import *\n",
    "init_notebook_mode()"
   ]
  },
  {
   "cell_type": "markdown",
   "metadata": {},
   "source": [
    "### Population Data"
   ]
  },
  {
   "cell_type": "code",
   "execution_count": null,
   "metadata": {},
   "outputs": [],
   "source": [
    "# Load Country Population data into dataframe\n",
    "global_pop_df = pd.read_csv('Data/Population_Data/Population_data.csv', skiprows = 3)\n",
    "global_pop_df.head()"
   ]
  },
  {
   "cell_type": "code",
   "execution_count": null,
   "metadata": {},
   "outputs": [],
   "source": [
    "# Keep only 2018 population column (most up to date)\n",
    "global_pop_df = pop_df.filter(items = ['Country Name', 'Country Code', '2018'], axis = 1)\n",
    "global_pop_df.head()"
   ]
  },
  {
   "cell_type": "markdown",
   "metadata": {},
   "source": [
    "### Global COVID-19 Data"
   ]
  },
  {
   "cell_type": "code",
   "execution_count": null,
   "metadata": {},
   "outputs": [],
   "source": [
    "# Load Global COVID19 data into dataframe\n",
    "global_df = pd.read_excel('Data/COVID_Data/COVID-19-geographic-disbtribution-worldwide-2020-03-27.xlsx')\n",
    "global_df.head()"
   ]
  },
  {
   "cell_type": "code",
   "execution_count": null,
   "metadata": {},
   "outputs": [],
   "source": [
    "# Drop any dates before 2020\n",
    "global_df = global_df[global_df.year > 2019]"
   ]
  },
  {
   "cell_type": "code",
   "execution_count": null,
   "metadata": {},
   "outputs": [],
   "source": [
    "# Rename columns\n",
    "global_df.rename({'countriesAndTerritories' : 'Country', 'cases' : 'Cases',\n",
    "                  'deaths' : 'Deaths', 'dateRep': 'date'}, axis = 1, inplace = True)"
   ]
  },
  {
   "cell_type": "code",
   "execution_count": null,
   "metadata": {},
   "outputs": [],
   "source": [
    "# Drop unnecessary columns\n",
    "global_df.drop(columns = ['day', 'month', 'year', 'geoId', 'countryterritoryCode', 'popData2018'], inplace = True)"
   ]
  },
  {
   "cell_type": "code",
   "execution_count": null,
   "metadata": {},
   "outputs": [],
   "source": [
    "# Preview dataframe\n",
    "global_df.head()"
   ]
  },
  {
   "cell_type": "code",
   "execution_count": null,
   "metadata": {},
   "outputs": [],
   "source": [
    "# Fix country names\n",
    "global_df.Country = global_df.Country.map(lambda x: x.replace('_',' '))\n",
    "global_df.Country = global_df.Country.map(lambda x: x.title())"
   ]
  },
  {
   "cell_type": "code",
   "execution_count": null,
   "metadata": {},
   "outputs": [],
   "source": [
    "# Define alpha3 dictionary for mapping countries\n",
    "dict_alpha3 = {'Afghanistan': 'AFG',\n",
    " 'Albania': 'ALB',\n",
    " 'Algeria': 'DZA',\n",
    " 'American Samoa': 'ASM',\n",
    " 'Andorra': 'AND',\n",
    " 'Angola': 'AGO',\n",
    " 'Anguilla': 'AIA',\n",
    " 'Antarctic Fisheries': '@@@',\n",
    " 'Antigua And Barbuda': 'ATG',\n",
    " 'Argentina': 'ARG',\n",
    " 'Armenia': 'ARM',\n",
    " 'Aruba': 'ABW',\n",
    " 'Australia': 'AUS',\n",
    " 'Austria': 'AUT',\n",
    " 'Azerbaijan': 'AZE',\n",
    " 'Bahamas': 'BHS',\n",
    " 'Bahrain': 'BHR',\n",
    " 'Bangladesh': 'BGD',\n",
    " 'Barbados': 'BRB',\n",
    " 'Belarus': 'BLR',\n",
    " 'Belgium': 'BEL',\n",
    " 'Belize': 'BLZ',\n",
    " 'Benin': 'BEN',\n",
    " 'Bermuda': 'BMU',\n",
    " 'Bhutan': 'BTN',\n",
    " 'Bolivia': 'BOL',\n",
    " 'Bonaire, St Eustatius, Saba': 'BIH',\n",
    " 'Bosnia And Herzegovina': 'BIH',\n",
    " 'Botswana': 'BWA',\n",
    " 'Brazil': 'BRA',\n",
    " 'British Virgin Islands': 'VGB',\n",
    " 'Brunei Darussalam': 'BRN',\n",
    " 'Bulgaria': 'BGR',\n",
    " 'Burkina Faso': 'BFA',\n",
    " 'Burundi': 'BDI',\n",
    " 'Cape Verde': 'CPV',\n",
    " 'Cambodia': 'KHM',\n",
    " 'Cameroon': 'CMR',\n",
    " 'Canada': 'CAN',\n",
    " 'Cayman Islands': 'CYM',\n",
    " 'Central African Republic': 'CAF',\n",
    " 'Chad': 'TCD',\n",
    " 'Chile': 'CHL',\n",
    " 'China': 'CHN',\n",
    " 'China, Hong Kong SAR': 'HKG',\n",
    " 'China, Macao SAR': 'MAC',\n",
    " 'Colombia': 'COL',\n",
    " 'Commonwealth of Independent States (CIS)': '@@@',\n",
    " 'Comoros': 'COM',\n",
    " 'Congo': 'COG',\n",
    " 'Cook Islands': 'COK',\n",
    " 'Costa Rica': 'CRI',\n",
    " 'Croatia': 'HRV',\n",
    " 'Cuba': 'CUB',\n",
    " 'Curaçao': 'CUW',\n",
    " 'Cyprus': 'CYP',\n",
    " 'Czech Republic': 'CZE',\n",
    " 'Czechoslovakia (former)': 'CZE',\n",
    " \"Cote Divoire\": 'CIV',\n",
    " 'Democratic Republic Of The Congo': 'COD',\n",
    " 'Denmark': 'DNK',\n",
    " 'Djibouti': 'DJI',\n",
    " 'Dominica': 'DMA',\n",
    " 'Dominican Republic': 'DOM',\n",
    " 'Ecuador': 'ECU',\n",
    " 'Egypt': 'EGY',\n",
    " 'El Salvador': 'SLV',\n",
    " 'Equatorial Guinea': 'GNQ',\n",
    " 'Eritrea': 'ERI',\n",
    " 'Estonia': 'EST',\n",
    " 'Ethiopia': 'ETH',\n",
    " 'Ethiopia, incl. Eritrea': 'ETH',\n",
    " 'Faroe Islands': 'FRO',\n",
    " 'Falkland Is. (Malvinas)': 'MDV',\n",
    " 'Fiji': 'FJI',\n",
    " 'Finland': 'FIN',\n",
    " 'France': 'FRA',\n",
    " 'French Guiana': 'GUF',\n",
    " 'French Polynesia': 'PYF',\n",
    " 'Gabon': 'GAB',\n",
    " 'Gambia': 'GMB',\n",
    " 'Georgia': 'GEO',\n",
    " 'German Dem. R. (former)': '@@@',\n",
    " 'Germany': 'DEU',\n",
    " 'Germany, Fed. R. (former)': '@@@',\n",
    " 'Ghana': 'GHA',\n",
    " 'Gibraltar': 'GIB',\n",
    " 'Greece': 'GRC',\n",
    " 'Greenland': 'GRL',\n",
    " 'Grenada': 'GRD',\n",
    " 'Guadeloupe': 'GLP',\n",
    " 'Guam': 'GUM',\n",
    " 'Guatemala': 'GTM',\n",
    " 'Guernsey': 'GGY',\n",
    " 'Guinea': 'GIN',\n",
    " 'Guinea Bissau': 'GNB',\n",
    " 'Guyana': 'GUY',\n",
    " 'Haiti': 'HTI',\n",
    " 'Honduras': 'HND',\n",
    " 'Hungary': 'HUN',\n",
    " 'Iceland': 'ISL',\n",
    " 'India': 'IND',\n",
    " 'Indonesia': 'IDN',\n",
    " 'Iran': 'IRN',\n",
    " 'Iraq': 'IRQ',\n",
    " 'Ireland': 'IRL',\n",
    " 'Isle Of Man': 'IMN',\n",
    " 'Israel': 'ISR',\n",
    " 'Italy': 'ITA',\n",
    " 'Jamaica': 'JAM',\n",
    " 'Japan': 'JPN',\n",
    " 'Jersey': 'JEY',\n",
    " 'Jordan': 'JOR',\n",
    " 'Kazakhstan': 'KAZ',\n",
    " 'Kenya': 'KEN',\n",
    " 'Kiribati': 'KIR',\n",
    " \"Korea, Dem.Ppl's.Rep.\": 'PRK',\n",
    " 'South Korea': 'KOR',\n",
    " 'Kuwait': 'KWT',\n",
    " 'Kyrgyzstan': 'KGZ',\n",
    " \"Laos\": 'LAO',\n",
    " 'Latvia': 'LVA',\n",
    " 'Lebanon': 'LBN',\n",
    " 'Lesotho': 'LSO',\n",
    " 'Liberia': 'LBR',\n",
    " 'Libya': 'LBY',\n",
    " 'Liechtenstein': 'LIE',\n",
    " 'Lithuania': 'LTU',\n",
    " 'Luxembourg': 'LUX',\n",
    " 'Madagascar': 'MDG',\n",
    " 'Malawi': 'MWI',\n",
    " 'Malaysia': 'MYS',\n",
    " 'Maldives': 'MDV',\n",
    " 'Mali': 'MLI',\n",
    " 'Malta': 'MLT',\n",
    " 'Marshall Islands': 'MHL',\n",
    " 'Martinique': 'MTQ',\n",
    " 'Mauritania': 'MRT',\n",
    " 'Mauritius': 'MUS',\n",
    " 'Mayotte': 'MYT',\n",
    " 'Mexico': 'MEX',\n",
    " 'Micronesia (Fed. States of)': 'FSM',\n",
    " 'Mongolia': 'MNG',\n",
    " 'Montenegro': 'MNE',\n",
    " 'Montserrat': 'MSR',\n",
    " 'Morocco': 'MAR',\n",
    " 'Mozambique': 'MOZ',\n",
    " 'Myanmar': 'MMR',\n",
    " 'Namibia': 'NAM',\n",
    " 'Nauru': 'NRU',\n",
    " 'Nepal': 'NPL',\n",
    " 'Netherlands Antilles': 'NLD',\n",
    " 'Netherlands': 'NLD',\n",
    " 'New Caledonia': 'NCL',\n",
    " 'New Zealand': 'NZL',\n",
    " 'Nicaragua': 'NIC',\n",
    " 'Niger': 'NER',\n",
    " 'Nigeria': 'NGA',\n",
    " 'Niue': 'NIU',\n",
    " 'Northern Mariana Islands': 'MNP',\n",
    " 'Norway': 'NOR',\n",
    " 'Oman': 'OMN',\n",
    " 'Other Asia': '@@@',\n",
    " 'Pacific Islands (former)': '@@@',\n",
    " 'Pakistan': 'PAK',\n",
    " 'Palau': 'PLW',\n",
    " 'Panama': 'PAN',\n",
    " 'Papua New Guinea': 'PNG',\n",
    " 'Paraguay': 'PRY',\n",
    " 'Peru': 'PER',\n",
    " 'Philippines': 'PHL',\n",
    " 'Poland': 'POL',\n",
    " 'Portugal': 'PRT',\n",
    " 'Puerto Rico': 'PRI',\n",
    " 'Qatar': 'QAT',\n",
    " 'Moldova': 'MDA',\n",
    " 'Romania': 'ROU',\n",
    " 'Russia': 'RUS',\n",
    " 'Rwanda': 'RWA',\n",
    " 'Réunion': 'REU',\n",
    " 'Samoa': 'WSM',\n",
    " 'Sao Tome and Principe': 'STP',\n",
    " 'Saudi Arabia': 'SAU',\n",
    " 'Senegal': 'SEN',\n",
    " 'Serbia': 'SRB',\n",
    " 'Serbia and Montenegro': 'SRB',\n",
    " 'Seychelles': 'SYC',\n",
    " 'Sierra Leone': 'SLE',\n",
    " 'Singapore': 'SGP',\n",
    " 'Sint Maarten': 'SXM',\n",
    " 'Slovakia': 'SVK',\n",
    " 'Slovenia': 'SVN',\n",
    " 'Solomon Islands': 'SLB',\n",
    " 'Somalia': 'SOM',\n",
    " 'South Africa': 'ZAF',\n",
    " 'South Sudan': 'SSD',\n",
    " 'Spain': 'ESP',\n",
    " 'Sri Lanka': 'LKA',\n",
    " 'St. Helena and Depend.': 'SHN',\n",
    " 'Saint Kitts And Nevis': 'KNA',\n",
    " 'Saint Lucia': 'LCA',\n",
    " 'St. Pierre-Miquelon': 'SPM',\n",
    " 'Saint Vincent And The Grenadines': 'VCT',\n",
    " 'Palestine': 'PSE',\n",
    " 'Sudan': 'SDN',\n",
    " 'Sudan (former)': 'SDN',\n",
    " 'Suriname': 'SUR',\n",
    " 'Eswatini': 'SWZ',\n",
    " 'Sweden': 'SWE',\n",
    " 'Switzerland': 'CHE',\n",
    " 'Syria': 'SYR',\n",
    " 'North Macedonia': 'MKD',\n",
    " 'Tajikistan': 'TJK',\n",
    " 'Thailand': 'THA',\n",
    " 'Timor Leste': 'TLS',\n",
    " 'Togo': 'TGO',\n",
    " 'Tonga': 'TON',\n",
    " 'Trinidad And Tobago': 'TTO',\n",
    " 'Tunisia': 'TUN',\n",
    " 'Turkey': 'TUR',\n",
    " 'Turkmenistan': 'TKM',\n",
    " 'Turks And Caicos Islands': 'TCA',\n",
    " 'Tuvalu': 'TUV',\n",
    " 'USSR (former)': '@@@',\n",
    " 'Uganda': 'UGA',\n",
    " 'Ukraine': 'UKR',\n",
    " 'United Arab Emirates': 'ARE',\n",
    " 'United Kingdom': 'GBR',\n",
    " 'United Republic Of Tanzania': 'TZA',\n",
    " 'United States Of America': 'USA',\n",
    " 'United States Virgin Islands': 'VIR',\n",
    " 'Uruguay': 'URY',\n",
    " 'Uzbekistan': 'UZB',\n",
    " 'Vanuatu': 'VUT',\n",
    " 'Venezuela': 'VEN',\n",
    " 'Vietnam': 'VNM',\n",
    " 'Wallis and Futuna Is.': 'WLF',\n",
    " 'Yemen': 'YEM',\n",
    " 'Yemen Arab Rep. (former)': 'YEM',\n",
    " 'Yemen, Dem. (former)': '@@@',\n",
    " 'Yugoslavia, SFR (former)': '@@@',\n",
    " 'Zambia': 'ZMB',\n",
    " 'Zimbabwe': 'ZWE'}"
   ]
  },
  {
   "cell_type": "code",
   "execution_count": null,
   "metadata": {},
   "outputs": [],
   "source": [
    "# Function to fix country name outliers\n",
    "def country_fix(country):\n",
    "    if country == 'Cases On An International Conveyance Japan':\n",
    "        country = 'Japan'\n",
    "    if country == 'Holy See':\n",
    "        country = 'Italy'\n",
    "    if country == 'Kosovo':\n",
    "        country = 'Serbia'\n",
    "    if country == 'Monaco':\n",
    "        country = 'France'\n",
    "    if country == 'San Marino':\n",
    "        country = 'Italy'\n",
    "    if country == 'Taiwan':\n",
    "        country = 'China'\n",
    "    return country"
   ]
  },
  {
   "cell_type": "code",
   "execution_count": null,
   "metadata": {},
   "outputs": [],
   "source": [
    "# Apply country_fix function to dataframe\n",
    "global_df.Country = global_df.Country.map(country_fix)"
   ]
  },
  {
   "cell_type": "code",
   "execution_count": null,
   "metadata": {},
   "outputs": [],
   "source": [
    "# Create alpha3 column in dataframe\n",
    "global_df['alpha3'] = global_df.Country.map(lambda x: dict_alpha3[x])\n",
    "global_df.head()"
   ]
  },
  {
   "cell_type": "code",
   "execution_count": null,
   "metadata": {},
   "outputs": [],
   "source": [
    "# Groupby to make sure all countries are including all folded in name outliers and sum the cases/deaths\n",
    "# Reset index to remove the multi-index\n",
    "grouped_global_df = global_df.groupby(by = ['alpha3', 'date']).sum()\n",
    "grouped_global_df = grouped_global_df.reset_index()"
   ]
  },
  {
   "cell_type": "markdown",
   "metadata": {},
   "source": [
    "### Global COVID-19 Data Feature Engineering"
   ]
  },
  {
   "cell_type": "code",
   "execution_count": null,
   "metadata": {},
   "outputs": [],
   "source": [
    "# Get aggregate totals over time for cases and deaths\n",
    "grouped_global_df['Total_Cases'] = grouped_global_df.groupby('alpha3').Cases.cumsum()\n",
    "grouped_global_df['Total_Deaths'] = grouped_global_df.groupby('alpha3').Deaths.cumsum()"
   ]
  },
  {
   "cell_type": "code",
   "execution_count": null,
   "metadata": {
    "scrolled": true
   },
   "outputs": [],
   "source": [
    "# Preview dataframe\n",
    "grouped_global_df.head()"
   ]
  },
  {
   "cell_type": "code",
   "execution_count": null,
   "metadata": {},
   "outputs": [],
   "source": [
    "# Rename columns\n",
    "grouped_global_df.rename({'alpha3' : 'Country', 'Cases' : 'Daily_Cases', 'Deaths' : 'Daily_Deaths',\n",
    "                          'Total_Cases' : 'Cases', 'Total_Deaths' : 'Deaths'}, axis = 1, inplace = True)"
   ]
  },
  {
   "cell_type": "markdown",
   "metadata": {},
   "source": [
    "### US COVID-19 Data"
   ]
  },
  {
   "cell_type": "code",
   "execution_count": null,
   "metadata": {},
   "outputs": [],
   "source": [
    "# Load US State COVID19 data into dataframe\n",
    "us_state_df = pd.read_csv('Data/COVID_Data/us-states.csv')\n",
    "us_state_df.head()"
   ]
  },
  {
   "cell_type": "markdown",
   "metadata": {},
   "source": [
    "### Merge Population and COVID Tables"
   ]
  },
  {
   "cell_type": "code",
   "execution_count": null,
   "metadata": {},
   "outputs": [],
   "source": [
    "# Merge dataframes\n",
    "final_global_df = pd.merge(grouped_global_df, global_pop_df, how = 'outer',\n",
    "                           left_on = 'Country', right_on = 'Country Code')"
   ]
  },
  {
   "cell_type": "code",
   "execution_count": null,
   "metadata": {},
   "outputs": [],
   "source": [
    "# Drop unnecessary columns\n",
    "final_global_df.drop('Country Code', axis = 1, inplace = True)\n",
    "final_global_df.head()"
   ]
  },
  {
   "cell_type": "code",
   "execution_count": null,
   "metadata": {},
   "outputs": [],
   "source": [
    "# Rename columns\n",
    "final_global_df.rename({'2018' : 'Population', 'Country' : 'Code', 'Country Name' : 'Country'},\n",
    "                       axis = 1, inplace = True)"
   ]
  },
  {
   "cell_type": "markdown",
   "metadata": {},
   "source": [
    "### Final Data Table Feature Engineering"
   ]
  },
  {
   "cell_type": "code",
   "execution_count": null,
   "metadata": {},
   "outputs": [],
   "source": [
    "# Add Cases and Deaths per capita, death rate\n",
    "final_global_df['Deaths_per_Capita'] = final_global_df.Deaths / final_global_df.Population\n",
    "final_global_df['Cases_per_Capita'] = final_global_df.Cases / final_global_df.Population\n",
    "final_global_df['Death_rate'] = (final_global_df.Deaths / final_global_df.Cases).fillna(0.0)"
   ]
  },
  {
   "cell_type": "code",
   "execution_count": null,
   "metadata": {},
   "outputs": [],
   "source": [
    "# Preview dataframe\n",
    "final_global_df.head()"
   ]
  },
  {
   "cell_type": "markdown",
   "metadata": {},
   "source": [
    "### Mapping"
   ]
  },
  {
   "cell_type": "code",
   "execution_count": null,
   "metadata": {},
   "outputs": [],
   "source": [
    "# Def function to create world choropleth map\n",
    "import plotly.express as px\n",
    "\n",
    "def world_map(df, input_date, input_val):\n",
    "    \n",
    "    fig = px.choropleth(df[df.date == input_date], locations = \"Code\",\n",
    "                    color = input_val, hover_name = \"Country\", locationmode = 'ISO-3',\n",
    "                    color_continuous_scale = 'reds', title = f'2020 COVID-19 {input_val} by Country')\n",
    "    fig.show()"
   ]
  },
  {
   "cell_type": "markdown",
   "metadata": {},
   "source": [
    "#### 3/20/20 Results"
   ]
  },
  {
   "cell_type": "code",
   "execution_count": null,
   "metadata": {
    "scrolled": false
   },
   "outputs": [],
   "source": [
    "# Map Global Cases as of 3/20/20\n",
    "world_map(final_global_df, '2020-03-20', 'Cases')"
   ]
  },
  {
   "cell_type": "code",
   "execution_count": null,
   "metadata": {},
   "outputs": [],
   "source": [
    "# Map Global Deaths as of 3/20/20\n",
    "world_map(final_global_df, '2020-03-20', 'Deaths')"
   ]
  },
  {
   "cell_type": "code",
   "execution_count": null,
   "metadata": {},
   "outputs": [],
   "source": [
    "# Map Global Cases per Capita as of 3/20/20\n",
    "world_map(final_global_df, '2020-03-20', 'Cases_per_Capita')"
   ]
  },
  {
   "cell_type": "code",
   "execution_count": null,
   "metadata": {},
   "outputs": [],
   "source": [
    "# Map Global Deaths per Capita as of 3/20/20\n",
    "world_map(final_global_df, '2020-03-20', 'Deaths_per_Capita')"
   ]
  },
  {
   "cell_type": "code",
   "execution_count": null,
   "metadata": {
    "scrolled": false
   },
   "outputs": [],
   "source": [
    "# Map Global Death rates as of 3/20/20\n",
    "world_map(final_global_df, '2020-03-20', 'Death_rate')"
   ]
  },
  {
   "cell_type": "markdown",
   "metadata": {},
   "source": [
    "#### 3/27/20 Results"
   ]
  },
  {
   "cell_type": "code",
   "execution_count": null,
   "metadata": {
    "scrolled": false
   },
   "outputs": [],
   "source": [
    "# Map Global Cases as of 3/27/20\n",
    "world_map(final_global_df, '2020-03-27', 'Cases')"
   ]
  },
  {
   "cell_type": "code",
   "execution_count": null,
   "metadata": {},
   "outputs": [],
   "source": [
    "# Map Global Deaths as of 3/27/20\n",
    "world_map(final_global_df, '2020-03-27', 'Deaths')"
   ]
  },
  {
   "cell_type": "code",
   "execution_count": null,
   "metadata": {},
   "outputs": [],
   "source": [
    "# Map Global Cases per Capita as of 3/27/20\n",
    "world_map(final_global_df, '2020-03-27', 'Cases_per_Capita')"
   ]
  },
  {
   "cell_type": "code",
   "execution_count": null,
   "metadata": {},
   "outputs": [],
   "source": [
    "# Map Global Deaths per Capita as of 3/27/20\n",
    "world_map(final_global_df, '2020-03-27', 'Deaths_per_Capita')"
   ]
  },
  {
   "cell_type": "code",
   "execution_count": null,
   "metadata": {
    "scrolled": false
   },
   "outputs": [],
   "source": [
    "# Map Global Death rates as of 3/27/20\n",
    "world_map(final_global_df, '2020-03-27', 'Death_rate')"
   ]
  },
  {
   "cell_type": "markdown",
   "metadata": {},
   "source": [
    "### Conclusion\n",
    "As you can see by looking at the various metrics, certain countries are handling the virus better than others. China and the United States have many cases, but in comparison to their overall population, the number of cases is not that high. European countries like Iceland, Spain, and Italy have a high amount of cases per capita. Unfortunately, when looking at the death rates, places with less medical resources seem to have higher death rates, such as Sudan, Zimbabwe or Guyana, caveat these rates with very low number of cases so far however. European countries on the other hand are not low either with high numbers of cases."
   ]
  }
 ],
 "metadata": {
  "kernelspec": {
   "display_name": "Python 3",
   "language": "python",
   "name": "python3"
  },
  "language_info": {
   "codemirror_mode": {
    "name": "ipython",
    "version": 3
   },
   "file_extension": ".py",
   "mimetype": "text/x-python",
   "name": "python",
   "nbconvert_exporter": "python",
   "pygments_lexer": "ipython3",
   "version": "3.6.9"
  }
 },
 "nbformat": 4,
 "nbformat_minor": 4
}
